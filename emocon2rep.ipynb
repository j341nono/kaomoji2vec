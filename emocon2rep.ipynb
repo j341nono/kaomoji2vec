{
 "cells": [
  {
   "cell_type": "markdown",
   "id": "9481817d",
   "metadata": {},
   "source": [
    "# 目的\n",
    "\n",
    "顔文字は以下の9個の感情に分類できる。[1]\n",
    "joy, like, calm, sorrow, dislike, fear, excitement, surprise, shame\n",
    "顔文字をこれらの感情に分類する。\n",
    "\n",
    "# 変換の流れ\n",
    "\n",
    "顔文字 -1-> 正規表現 -2-> タグ（英語）-3-> 代表語\n",
    "    1,2: 辞書   3: word2vec\n",
    "\n",
    "# 使用したデータ\n",
    "\n",
    "emoticon / Kaomoji Dataset\n",
    "https://github.com/ekohrt/emoticon_kaomoji_dataset/tree/main\n",
    "\n",
    "word2vec pretrained embeddings\n",
    "https://wikipedia2vec.github.io/wikipedia2vec/pretrained/"
   ]
  },
  {
   "cell_type": "code",
   "execution_count": 6,
   "id": "c3042555-730c-4a0b-af16-b3be02356884",
   "metadata": {},
   "outputs": [],
   "source": [
    "import json\n",
    "import gensim\n",
    "from gensim.models import KeyedVectors\n",
    "from gensim.test.utils import datapath\n",
    "import numpy as np"
   ]
  },
  {
   "cell_type": "code",
   "execution_count": 18,
   "id": "309a6e0d-9136-479b-871c-beef9ff1b651",
   "metadata": {},
   "outputs": [],
   "source": [
    "# JSONファイルから絵文字データを読み込む\n",
    "emotion_dict_path = './data/emoticon_dict.json'\n",
    "with open(emotion_dict_path, \"r\", encoding=\"utf-8\") as f:\n",
    "    emoticon_dict = json.load(f)\n",
    "# original_tagsの内容を全てまとめて、重複を排除\n",
    "corpus = list({tag for data in emoticon_dict.values() for tag in data[\"original_tags\"]})\n",
    "\n",
    "# ベクトルのパス\n",
    "vec_path = './data/vec.txt'"
   ]
  },
  {
   "cell_type": "code",
   "execution_count": 9,
   "id": "a3f39357-7e5d-412e-874b-8a27427fd299",
   "metadata": {},
   "outputs": [],
   "source": [
    "# w2v\n",
    "model = KeyedVectors.load_word2vec_format(vec_path, binary=False)"
   ]
  },
  {
   "cell_type": "code",
   "execution_count": 19,
   "id": "6d5c5ee1-63f8-42cd-a9b8-9541380b2ecb",
   "metadata": {},
   "outputs": [],
   "source": [
    "## 代表要素を抽出したw2vの作成 : model_re\n",
    "\n",
    "# [1] file:///C:/ehime/competition/jp_analy/article/E6-2.pdf\n",
    "# excitement, surprise, shameは0, 顔文字としての影響を受けにくい\n",
    "representatives = ['joy','like','calm','sorrow','dislike','fear','excitement','surprise','shame']\n",
    "\n",
    "# 代表要素の単語をkey、そのw2vベクトルをvalueとする辞書の作成\n",
    "filtered_vectors = {word: model[word] for word in representatives}\n",
    "\n",
    "# (  KeyedVectorsで作成したインスタンスは、.key_to_indexでキー検索、.vector_sizeでサイズ )\n",
    "# model_reの初期化\n",
    "model_re = KeyedVectors(vector_size=model.vector_size)\n",
    "model_re.add_vectors(list(filtered_vectors.keys()), list(filtered_vectors.values()))"
   ]
  },
  {
   "cell_type": "code",
   "execution_count": 106,
   "id": "54b72c06-62a2-4c27-bdb4-9976ae42d51d",
   "metadata": {},
   "outputs": [],
   "source": [
    "# function \n",
    "#\n",
    "# 顔文字 --> 正規表現 --> タグ（複数）のリスト\n",
    "def get_tags_from_emoticon(emoticon):\n",
    "    if emoticon in emoticon_dict:\n",
    "        original_tags = emoticon_dict[emoticon].get(\"original_tags\", [])\n",
    "        new_tags = emoticon_dict[emoticon].get(\"new_tags\", [])\n",
    "        return original_tags + new_tags\n",
    "    else:\n",
    "        return []\n",
    "\n",
    "def find_most_similar(input_word):\n",
    "    # 小文字に統一、空白削除\n",
    "    input_word = input_word.lower().strip()\n",
    "    \n",
    "    if input_word not in corpus:\n",
    "        return  -1, 0.0 # corpusに存在しない場合\n",
    "    \n",
    "    # 入力単語のベクトル\n",
    "    input_vector = model[input_word]\n",
    "    \n",
    "    max_similarity = -1\n",
    "    most_similar_word_idx = 0\n",
    "    for idx, rep_word in enumerate(representatives): # 代表要素を一つずつ確認\n",
    "        if rep_word in model.key_to_index:\n",
    "            rep_vector = model[rep_word]\n",
    "            similarity = np.dot(input_vector, rep_vector) / (np.linalg.norm(input_vector) * np.linalg.norm(rep_vector))\n",
    "            if similarity > max_similarity:\n",
    "                max_similarity = similarity\n",
    "                most_similar_word_idx = idx\n",
    "                \n",
    "    return most_similar_word_idx, max_similarity"
   ]
  },
  {
   "cell_type": "code",
   "execution_count": 74,
   "id": "ffc78594-2612-4437-944a-bd7613d696a2",
   "metadata": {},
   "outputs": [],
   "source": [
    "## main関数的\n",
    "#  これを使用\n",
    "\n",
    "def emocon2rep(emoji_input):\n",
    "    tags = get_tags_from_emoticon(emoji_input)\n",
    "    if not tags: # タグのリストが空なら偽\n",
    "        return False\n",
    "    \n",
    "    # タグが複数ある場合、それぞれの代表要素が異なる場合のための処理\n",
    "    #     もっともコサイン類似度の高いときの代表要素に決定\n",
    "    most_similar_word_idx = 0\n",
    "    most_similar_word_val = -1\n",
    "    for idx, tag in enumerate(tags):\n",
    "        result = find_most_similar(tag)\n",
    "        if result[0] is not False:  # 結果が有効な場合のみ処理\n",
    "            similar_word_idx, similarity_val = result\n",
    "            if similarity_val > most_similar_word_val:\n",
    "                most_similar_word_idx = similar_word_idx\n",
    "                most_similar_word_val = similarity_val\n",
    "    return representatives[most_similar_word_idx]"
   ]
  },
  {
   "cell_type": "code",
   "execution_count": 85,
   "id": "fb1dcf21-c41e-4e84-af0d-b19709448d5e",
   "metadata": {},
   "outputs": [
    {
     "name": "stdout",
     "output_type": "stream",
     "text": [
      "Tags: ['wink', 'Right Eye', 'wink']\n",
      "Tag: wink\n",
      "Result for --> wink: (0, 0.5390913)\n",
      "Tag: Right Eye\n",
      "Result for --> Right Eye: (-1, 0.0)\n",
      "Tag: wink\n",
      "Result for --> wink: (0, 0.5390913)\n",
      "Final result: joy\n"
     ]
    }
   ],
   "source": [
    "text = '(^_-)-☆'\n",
    "print(\"Tags:\", get_tags_from_emoticon(text))\n",
    "tags = get_tags_from_emoticon(text)\n",
    "\n",
    "for tag in tags:\n",
    "    print(f\"Tag: {tag}\")\n",
    "    result = find_most_similar(tag)\n",
    "    print(f\"Result for --> {tag}: {result}\")\n",
    "\n",
    "print(\"Final result:\", emocon2rep(text))"
   ]
  },
  {
   "cell_type": "code",
   "execution_count": 77,
   "id": "c3647b3f-ebf3-431d-8c89-6f73e487c281",
   "metadata": {},
   "outputs": [
    {
     "name": "stdout",
     "output_type": "stream",
     "text": [
      "['wink', 'Right Eye', 'wink']\n"
     ]
    },
    {
     "data": {
      "text/plain": [
       "'joy'"
      ]
     },
     "execution_count": 77,
     "metadata": {},
     "output_type": "execute_result"
    }
   ],
   "source": [
    "text = '(^_-)-☆'\n",
    "print(get_tags_from_emoticon(text))\n",
    "emocon2rep(text)"
   ]
  },
  {
   "cell_type": "code",
   "execution_count": 78,
   "id": "1370af7d-372b-4e5a-874e-039b8f5f01bb",
   "metadata": {},
   "outputs": [
    {
     "name": "stdout",
     "output_type": "stream",
     "text": [
      "[]\n"
     ]
    },
    {
     "data": {
      "text/plain": [
       "False"
      ]
     },
     "execution_count": 78,
     "metadata": {},
     "output_type": "execute_result"
    }
   ],
   "source": [
    "text = '( ;∀;)'\n",
    "print(get_tags_from_emoticon(text))\n",
    "emocon2rep(text)"
   ]
  },
  {
   "cell_type": "code",
   "execution_count": 99,
   "id": "3c83bcb2-fe96-42dd-81db-d51592bfd265",
   "metadata": {},
   "outputs": [
    {
     "data": {
      "text/plain": [
       "'fear'"
      ]
     },
     "execution_count": 99,
     "metadata": {},
     "output_type": "execute_result"
    }
   ],
   "source": [
    "text = 'ლ(ಠ益ಠლ'\n",
    "emocon2rep(text)"
   ]
  },
  {
   "cell_type": "code",
   "execution_count": 108,
   "id": "dccca234-b672-46d0-b994-9e48fcb6dc62",
   "metadata": {},
   "outputs": [],
   "source": [
    "# 以下では、コーパスの顔文字で判定\n",
    "unique = list(set(emoticon_dict.keys()))"
   ]
  },
  {
   "cell_type": "code",
   "execution_count": 120,
   "id": "544646d0-f88e-43e2-91ad-a56689266c16",
   "metadata": {},
   "outputs": [
    {
     "name": "stdout",
     "output_type": "stream",
     "text": [
      "(๑◕o◕)♥  -->  sorrow\n",
      "(๑ゝ◡･)ﾉ✿  -->  shame\n",
      "ヽ(☼ ͟☼)ﾉ  -->  shame\n",
      "(∩ȍ 3 ȍ)⊃━☆ﾟ.*  -->  joy\n",
      "♫♩♬|̲̅̅●̲̅̅|̲̅̅=̲̅̅|̲̅̅●̲̅̅|  -->  joy\n",
      "ヽ(●ﾟД｀ﾟ●)ﾉ  -->  shame\n",
      "(✿≧◡≦)(•́//.//•̀●)  -->  shame\n",
      "(๑˵•́U•̀)(•́ ﻌ •̀U)  -->  shame\n",
      "♬ ♡  ♬🍺*✲⋆🍺(0o0)*✲🍺(0o0)?  -->  sorrow\n",
      "(´⍊`)╭∩╮  -->  shame\n",
      "o(^^o)(o^^☞ ☜^^o)(o^^)o  -->  like\n",
      "(o◕◡◕)━☆ﾟ.*･｡ﾟ  -->  shame\n",
      "⸜(ّᶿॕധّᶿॕ)⸝  -->  shame\n",
      "૮( ᵒ̌ૢ௰ᵒ̌ૢ )ა  -->  shame\n",
      "꒰ლ✘ㅿ✘ლ꒱  -->  fear\n",
      "(❁⌒ᴥ⌒)(◠▿◠❁)  -->  shame\n",
      "(੭⏓╭╮⏓)੭̸*✩⁺˚  -->  sorrow\n",
      "(ɔꈍ3ꈍ(Ő▿Ő✿)  -->  shame\n",
      "✿°•.¸¸.•° °•.¸¸.•°✿  -->  like\n",
      "ヽ(ཀoཀ)ﾉ  -->  sorrow\n",
      "(≖‿≖ԅ)¨  -->  shame\n",
      "(=≗ᆽ≗=)(˘ ε ˘ʃƪ●)  -->  shame\n"
     ]
    },
    {
     "ename": "KeyError",
     "evalue": "\"Key 'i like you so much, i want to kiss you' not present\"",
     "output_type": "error",
     "traceback": [
      "\u001b[0;31m---------------------------------------------------------------------------\u001b[0m",
      "\u001b[0;31mKeyError\u001b[0m                                  Traceback (most recent call last)",
      "Cell \u001b[0;32mIn[120], line 2\u001b[0m\n\u001b[1;32m      1\u001b[0m \u001b[38;5;28;01mfor\u001b[39;00m i \u001b[38;5;129;01min\u001b[39;00m \u001b[38;5;28mrange\u001b[39m(\u001b[38;5;241m100\u001b[39m, \u001b[38;5;241m300\u001b[39m, \u001b[38;5;241m7\u001b[39m):\n\u001b[0;32m----> 2\u001b[0m     \u001b[38;5;28mprint\u001b[39m(unique[i], \u001b[38;5;124m'\u001b[39m\u001b[38;5;124m --> \u001b[39m\u001b[38;5;124m'\u001b[39m ,\u001b[43memocon2rep\u001b[49m\u001b[43m(\u001b[49m\u001b[43munique\u001b[49m\u001b[43m[\u001b[49m\u001b[43mi\u001b[49m\u001b[43m]\u001b[49m\u001b[43m)\u001b[49m)\n\u001b[1;32m      4\u001b[0m     \u001b[38;5;66;03m#print(emocon2rep(unique[i]))\u001b[39;00m\n\u001b[1;32m      5\u001b[0m \n\u001b[1;32m      6\u001b[0m \u001b[38;5;66;03m#print(unique)\u001b[39;00m\n\u001b[1;32m      7\u001b[0m \u001b[38;5;124;03m'''\u001b[39;00m\n\u001b[1;32m      8\u001b[0m \u001b[38;5;124;03mfor i in range(10):\u001b[39;00m\n\u001b[1;32m      9\u001b[0m \u001b[38;5;124;03m    print(emocon2rep(unique[i]))\u001b[39;00m\n\u001b[1;32m     10\u001b[0m \u001b[38;5;124;03m'''\u001b[39;00m\n",
      "Cell \u001b[0;32mIn[74], line 14\u001b[0m, in \u001b[0;36memocon2rep\u001b[0;34m(emoji_input)\u001b[0m\n\u001b[1;32m     12\u001b[0m most_similar_word_val \u001b[38;5;241m=\u001b[39m \u001b[38;5;241m-\u001b[39m\u001b[38;5;241m1\u001b[39m\n\u001b[1;32m     13\u001b[0m \u001b[38;5;28;01mfor\u001b[39;00m idx, tag \u001b[38;5;129;01min\u001b[39;00m \u001b[38;5;28menumerate\u001b[39m(tags):\n\u001b[0;32m---> 14\u001b[0m     result \u001b[38;5;241m=\u001b[39m \u001b[43mfind_most_similar\u001b[49m\u001b[43m(\u001b[49m\u001b[43mtag\u001b[49m\u001b[43m)\u001b[49m\n\u001b[1;32m     15\u001b[0m     \u001b[38;5;28;01mif\u001b[39;00m result[\u001b[38;5;241m0\u001b[39m] \u001b[38;5;129;01mis\u001b[39;00m \u001b[38;5;129;01mnot\u001b[39;00m \u001b[38;5;28;01mFalse\u001b[39;00m:  \u001b[38;5;66;03m# 結果が有効な場合のみ処理\u001b[39;00m\n\u001b[1;32m     16\u001b[0m         similar_word_idx, similarity_val \u001b[38;5;241m=\u001b[39m result\n",
      "Cell \u001b[0;32mIn[106], line 20\u001b[0m, in \u001b[0;36mfind_most_similar\u001b[0;34m(input_word)\u001b[0m\n\u001b[1;32m     17\u001b[0m     \u001b[38;5;28;01mreturn\u001b[39;00m  \u001b[38;5;241m-\u001b[39m\u001b[38;5;241m1\u001b[39m, \u001b[38;5;241m0.0\u001b[39m \u001b[38;5;66;03m# corpusに存在しない場合\u001b[39;00m\n\u001b[1;32m     19\u001b[0m \u001b[38;5;66;03m# 入力単語のベクトル\u001b[39;00m\n\u001b[0;32m---> 20\u001b[0m input_vector \u001b[38;5;241m=\u001b[39m \u001b[43mmodel\u001b[49m\u001b[43m[\u001b[49m\u001b[43minput_word\u001b[49m\u001b[43m]\u001b[49m\n\u001b[1;32m     21\u001b[0m \u001b[38;5;28;01mif\u001b[39;00m \u001b[38;5;129;01mnot\u001b[39;00m \u001b[38;5;28misinstance\u001b[39m(input_vector, np\u001b[38;5;241m.\u001b[39mndarray):\n\u001b[1;32m     22\u001b[0m     \u001b[38;5;28;01mreturn\u001b[39;00m \u001b[38;5;241m-\u001b[39m\u001b[38;5;241m1\u001b[39m, \u001b[38;5;241m0.0\u001b[39m\n",
      "File \u001b[0;32m~/k_data/myenv/lib/python3.10/site-packages/gensim/models/keyedvectors.py:403\u001b[0m, in \u001b[0;36mKeyedVectors.__getitem__\u001b[0;34m(self, key_or_keys)\u001b[0m\n\u001b[1;32m    389\u001b[0m \u001b[38;5;250m\u001b[39m\u001b[38;5;124;03m\"\"\"Get vector representation of `key_or_keys`.\u001b[39;00m\n\u001b[1;32m    390\u001b[0m \n\u001b[1;32m    391\u001b[0m \u001b[38;5;124;03mParameters\u001b[39;00m\n\u001b[0;32m   (...)\u001b[0m\n\u001b[1;32m    400\u001b[0m \n\u001b[1;32m    401\u001b[0m \u001b[38;5;124;03m\"\"\"\u001b[39;00m\n\u001b[1;32m    402\u001b[0m \u001b[38;5;28;01mif\u001b[39;00m \u001b[38;5;28misinstance\u001b[39m(key_or_keys, _KEY_TYPES):\n\u001b[0;32m--> 403\u001b[0m     \u001b[38;5;28;01mreturn\u001b[39;00m \u001b[38;5;28;43mself\u001b[39;49m\u001b[38;5;241;43m.\u001b[39;49m\u001b[43mget_vector\u001b[49m\u001b[43m(\u001b[49m\u001b[43mkey_or_keys\u001b[49m\u001b[43m)\u001b[49m\n\u001b[1;32m    405\u001b[0m \u001b[38;5;28;01mreturn\u001b[39;00m vstack([\u001b[38;5;28mself\u001b[39m\u001b[38;5;241m.\u001b[39mget_vector(key) \u001b[38;5;28;01mfor\u001b[39;00m key \u001b[38;5;129;01min\u001b[39;00m key_or_keys])\n",
      "File \u001b[0;32m~/k_data/myenv/lib/python3.10/site-packages/gensim/models/keyedvectors.py:446\u001b[0m, in \u001b[0;36mKeyedVectors.get_vector\u001b[0;34m(self, key, norm)\u001b[0m\n\u001b[1;32m    422\u001b[0m \u001b[38;5;28;01mdef\u001b[39;00m \u001b[38;5;21mget_vector\u001b[39m(\u001b[38;5;28mself\u001b[39m, key, norm\u001b[38;5;241m=\u001b[39m\u001b[38;5;28;01mFalse\u001b[39;00m):\n\u001b[1;32m    423\u001b[0m \u001b[38;5;250m    \u001b[39m\u001b[38;5;124;03m\"\"\"Get the key's vector, as a 1D numpy array.\u001b[39;00m\n\u001b[1;32m    424\u001b[0m \n\u001b[1;32m    425\u001b[0m \u001b[38;5;124;03m    Parameters\u001b[39;00m\n\u001b[0;32m   (...)\u001b[0m\n\u001b[1;32m    444\u001b[0m \n\u001b[1;32m    445\u001b[0m \u001b[38;5;124;03m    \"\"\"\u001b[39;00m\n\u001b[0;32m--> 446\u001b[0m     index \u001b[38;5;241m=\u001b[39m \u001b[38;5;28;43mself\u001b[39;49m\u001b[38;5;241;43m.\u001b[39;49m\u001b[43mget_index\u001b[49m\u001b[43m(\u001b[49m\u001b[43mkey\u001b[49m\u001b[43m)\u001b[49m\n\u001b[1;32m    447\u001b[0m     \u001b[38;5;28;01mif\u001b[39;00m norm:\n\u001b[1;32m    448\u001b[0m         \u001b[38;5;28mself\u001b[39m\u001b[38;5;241m.\u001b[39mfill_norms()\n",
      "File \u001b[0;32m~/k_data/myenv/lib/python3.10/site-packages/gensim/models/keyedvectors.py:420\u001b[0m, in \u001b[0;36mKeyedVectors.get_index\u001b[0;34m(self, key, default)\u001b[0m\n\u001b[1;32m    418\u001b[0m     \u001b[38;5;28;01mreturn\u001b[39;00m default\n\u001b[1;32m    419\u001b[0m \u001b[38;5;28;01melse\u001b[39;00m:\n\u001b[0;32m--> 420\u001b[0m     \u001b[38;5;28;01mraise\u001b[39;00m \u001b[38;5;167;01mKeyError\u001b[39;00m(\u001b[38;5;124mf\u001b[39m\u001b[38;5;124m\"\u001b[39m\u001b[38;5;124mKey \u001b[39m\u001b[38;5;124m'\u001b[39m\u001b[38;5;132;01m{\u001b[39;00mkey\u001b[38;5;132;01m}\u001b[39;00m\u001b[38;5;124m'\u001b[39m\u001b[38;5;124m not present\u001b[39m\u001b[38;5;124m\"\u001b[39m)\n",
      "\u001b[0;31mKeyError\u001b[0m: \"Key 'i like you so much, i want to kiss you' not present\""
     ]
    }
   ],
   "source": [
    "for i in range(100, 300, 7):\n",
    "    print(unique[i], ' --> ' ,emocon2rep(unique[i]))\n",
    "    \n",
    "    #print(emocon2rep(unique[i]))\n",
    "\n",
    "#print(unique)\n",
    "'''\n",
    "for i in range(10):\n",
    "    print(emocon2rep(unique[i]))\n",
    "'''"
   ]
  }
 ],
 "metadata": {
  "kernelspec": {
   "display_name": "Python 3 (ipykernel)",
   "language": "python",
   "name": "python3"
  },
  "language_info": {
   "codemirror_mode": {
    "name": "ipython",
    "version": 3
   },
   "file_extension": ".py",
   "mimetype": "text/x-python",
   "name": "python",
   "nbconvert_exporter": "python",
   "pygments_lexer": "ipython3",
   "version": "3.10.13"
  }
 },
 "nbformat": 4,
 "nbformat_minor": 5
}
